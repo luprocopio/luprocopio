{
  "nbformat": 4,
  "nbformat_minor": 0,
  "metadata": {
    "colab": {
      "provenance": [],
      "authorship_tag": "ABX9TyOF8WXO9VioouWF8drAdUES",
      "include_colab_link": true
    },
    "kernelspec": {
      "name": "python3",
      "display_name": "Python 3"
    },
    "language_info": {
      "name": "python"
    }
  },
  "cells": [
    {
      "cell_type": "markdown",
      "metadata": {
        "id": "view-in-github",
        "colab_type": "text"
      },
      "source": [
        "<a href=\"https://colab.research.google.com/github/luprocopio/luprocopio/blob/main/TESTE_DIAS_SEMANA.ipynb\" target=\"_parent\"><img src=\"https://colab.research.google.com/assets/colab-badge.svg\" alt=\"Open In Colab\"/></a>"
      ]
    },
    {
      "cell_type": "code",
      "source": [
        "a = 'estou estudando Python'\n",
        "type (a)"
      ],
      "metadata": {
        "colab": {
          "base_uri": "https://localhost:8080/"
        },
        "id": "qgdOiAFjX1e1",
        "outputId": "01649500-1b2c-4af9-9be4-310a443eaf6d"
      },
      "execution_count": null,
      "outputs": [
        {
          "output_type": "execute_result",
          "data": {
            "text/plain": [
              "str"
            ]
          },
          "metadata": {},
          "execution_count": 2
        }
      ]
    },
    {
      "cell_type": "code",
      "source": [
        "b = 12\n",
        "type (b)"
      ],
      "metadata": {
        "colab": {
          "base_uri": "https://localhost:8080/"
        },
        "id": "aB1PALwHX7rc",
        "outputId": "e73560b2-42a7-4e0b-cfb9-0448572f25d7"
      },
      "execution_count": null,
      "outputs": [
        {
          "output_type": "execute_result",
          "data": {
            "text/plain": [
              "int"
            ]
          },
          "metadata": {},
          "execution_count": 3
        }
      ]
    },
    {
      "cell_type": "code",
      "source": [
        "c = 1.223\n",
        "type (c)"
      ],
      "metadata": {
        "colab": {
          "base_uri": "https://localhost:8080/"
        },
        "id": "ohMUbNv8X_au",
        "outputId": "48afeffc-46bd-411e-bd00-27a378d95254"
      },
      "execution_count": null,
      "outputs": [
        {
          "output_type": "execute_result",
          "data": {
            "text/plain": [
              "float"
            ]
          },
          "metadata": {},
          "execution_count": 4
        }
      ]
    },
    {
      "cell_type": "code",
      "source": [
        "d = True\n",
        "type (d)"
      ],
      "metadata": {
        "id": "Hkc2iIl6YFQ2",
        "outputId": "46f9153f-104c-401e-e303-2722eb0e581d",
        "colab": {
          "base_uri": "https://localhost:8080/"
        }
      },
      "execution_count": null,
      "outputs": [
        {
          "output_type": "execute_result",
          "data": {
            "text/plain": [
              "bool"
            ]
          },
          "metadata": {},
          "execution_count": 5
        }
      ]
    },
    {
      "cell_type": "code",
      "source": [
        "if 4 < 6:\n",
        "  print('É menor')\n",
        "else:\n",
        "  print('É maior')"
      ],
      "metadata": {
        "colab": {
          "base_uri": "https://localhost:8080/"
        },
        "id": "6Q8Wu1pn3TLT",
        "outputId": "de0fc5bc-a0bc-46d8-8472-5d96c5e13ae5"
      },
      "execution_count": 2,
      "outputs": [
        {
          "output_type": "stream",
          "name": "stdout",
          "text": [
            "É menor\n"
          ]
        }
      ]
    },
    {
      "cell_type": "code",
      "source": [
        "dia = int(input(\"Digite o dia da semana:\"))\n",
        "verifica = False\n",
        "\n",
        "if dia == 1:\n",
        "  print('Domingo')\n",
        "  verifica = True\n",
        "if dia == 2:\n",
        "  print('Segunda')\n",
        "  verifica = True\n",
        "if dia == 3:\n",
        "  print('Terça')\n",
        "  verifica = True\n",
        "if dia == 4:\n",
        "  print('Quarta')\n",
        "  verifica = True\n",
        "if dia == 5:\n",
        "  print('Quinta')\n",
        "  verifica = True\n",
        "if dia == 6:\n",
        "  print('Sexta')\n",
        "  verifica = True\n",
        "if dia == 7:\n",
        "  print('Sábado')\n",
        "  verifica = True\n",
        "if verifica != True:\n",
        "    print('VALOR INVÁLIDO')"
      ],
      "metadata": {
        "colab": {
          "base_uri": "https://localhost:8080/"
        },
        "id": "dXIxkFH04J3I",
        "outputId": "3076b47a-9291-44c5-9bb7-10690ddd8d00"
      },
      "execution_count": 6,
      "outputs": [
        {
          "output_type": "stream",
          "name": "stdout",
          "text": [
            "Digite o dia da semana:9\n",
            "VALOR INVÁLIDO\n"
          ]
        }
      ]
    },
    {
      "cell_type": "code",
      "source": [
        "dia = int(input(\"Digite o dia da semana:\"))\n",
        "\n",
        "if dia == 1:\n",
        "  print('Domingo')\n",
        "elif dia == 2:\n",
        "  print('Segunda')\n",
        "elif dia == 3:\n",
        "  print('Terça')\n",
        "elif dia == 4:\n",
        "  print('Quarta')\n",
        "elif dia == 5:\n",
        "  print('Quinta')\n",
        "elif dia == 6:\n",
        "  print('Sexta')\n",
        "elif dia == 7:\n",
        "  print('Sábado')\n",
        "else:\n",
        "  print('VALOR INVÁLIDO!')"
      ],
      "metadata": {
        "colab": {
          "base_uri": "https://localhost:8080/"
        },
        "id": "kCVaiBUDENhV",
        "outputId": "628f69e2-7e58-47fa-9470-ee7cbf7847e9"
      },
      "execution_count": 8,
      "outputs": [
        {
          "output_type": "stream",
          "name": "stdout",
          "text": [
            "Digite o dia da semana:4\n",
            "Quarta\n"
          ]
        }
      ]
    }
  ]
}